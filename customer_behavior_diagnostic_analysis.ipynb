{
 "cells": [
  {
   "cell_type": "markdown",
   "metadata": {},
   "source": [
    "# Customer Behavior Diagnostic Analysis\n",
    "\n",
    "## Understanding the 'Why' Behind Customer Behavior Trends\n",
    "\n",
    "In this notebook, we'll perform diagnostic analytics to understand the underlying reasons for the patterns identified in our descriptive analysis. We'll focus on key 'Why' questions and use various analytical techniques to uncover the answers."
   ]
  },
  {
   "cell_type": "code",
   "execution_count": null,
   "metadata": {},
   "source": [
    "# Import required libraries\n",
    "import pandas as pd\n",
    "import numpy as np\n",
    "import matplotlib.pyplot as plt\n",
    "import seaborn as sns\n",
    "from scipy import stats\n",
    "from datetime import datetime\n",
    "\n",
    "# Set visualization style\n",
    "plt.style.use('seaborn')\n",
    "sns.set_palette('husl')\n",
    "\n",
    "# Load and prepare the data\n",
    "df = pd.read_excel('Online Retail.xlsx')\n",
    "df_clean = clean_data(df)  # Using the cleaning function from first notebook"
   ]
  },
  {
   "cell_type": "markdown",
   "metadata": {},
   "source": [
    "### 1. Why do some products sell better than others?\n",
    "Let's analyze the relationship between price points, seasonality, and sales performance."
   ]
  },
  {
   "cell_type": "code",
   "execution_count": null,
   "metadata": {},
   "source": [
    "# Analyze price points vs. sales volume\n",
    "product_analysis = df_clean.groupby('Description').agg({\n",
    "    'Quantity': 'sum',\n",
    "    'UnitPrice': 'mean',\n",
    "    'TotalAmount': 'sum'\n",
    "}).reset_index()\n",
    "\n",
    "# Calculate correlation between price and quantity\n",
    "correlation = stats.pearsonr(product_analysis['UnitPrice'], product_analysis['Quantity'])\n",
    "\n",
    "plt.figure(figsize=(10, 6))\n",
    "sns.scatterplot(data=product_analysis, x='UnitPrice', y='Quantity')\n",
    "plt.title('Price vs. Sales Volume Relationship')\n",
    "plt.xlabel('Unit Price')\n",
    "plt.ylabel('Total Quantity Sold')\n",
    "plt.text(0.05, 0.95, f'Correlation: {correlation[0]:.2f}\\np-value: {correlation[1]:.4f}',\n",
    "         transform=plt.gca().transAxes)\n",
    "plt.show()"
   ]
  },
  {
   "cell_type": "markdown",
   "metadata": {},
   "source": [
    "### 2. Why do customer purchase patterns vary across different times?"
   ]
  },
  {
   "cell_type": "code",
   "execution_count": null,
   "metadata": {},
   "source": [
    "# Analyze seasonal patterns and their relationship with product categories\n",
    "df_clean['Month'] = pd.to_datetime(df_clean['InvoiceDate']).dt.month\n",
    "df_clean['Season'] = pd.to_datetime(df_clean['InvoiceDate']).dt.month.map(\n",
    "    {1: 'Winter', 2: 'Winter', 3: 'Spring', 4: 'Spring', \n",
    "     5: 'Spring', 6: 'Summer', 7: 'Summer', 8: 'Summer',\n",
    "     9: 'Fall', 10: 'Fall', 11: 'Fall', 12: 'Winter'})\n",
    "\n",
    "# Analyze seasonal sales patterns\n",
    "seasonal_category_sales = df_clean.groupby(['Season', 'Description'])['Quantity'].sum().reset_index()\n",
    "top_products_per_season = seasonal_category_sales.sort_values('Quantity', ascending=False).groupby('Season').head(5)\n",
    "\n",
    "plt.figure(figsize=(15, 8))\n",
    "sns.barplot(data=top_products_per_season, x='Season', y='Quantity', hue='Description')\n",
    "plt.title('Top Products by Season')\n",
    "plt.xticks(rotation=45)\n",
    "plt.legend(bbox_to_anchor=(1.05, 1), loc='upper left')\n",
    "plt.tight_layout()\n",
    "plt.show()"
   ]
  },
  {
   "cell_type": "markdown",
   "metadata": {},
   "source": [
    "### 3. Why do some customers spend more than others?"
   ]
  },
  {
   "cell_type": "code",
   "execution_count": null,
   "metadata": {},
   "source": [
    "# Analyze customer purchasing behavior factors\n",
    "customer_analysis = df_clean.groupby('CustomerID').agg({\n",
    "    'InvoiceNo': 'count',  # Purchase frequency\n",
    "    'Quantity': ['sum', 'mean'],  # Total and average items per order\n",
    "    'TotalAmount': ['sum', 'mean'],  # Total spent and average order value\n",
    "    'Description': 'nunique'  # Product variety\n",
    "}).round(2)\n",
    "\n",
    "customer_analysis.columns = ['PurchaseFrequency', 'TotalItems', 'AvgItemsPerOrder',\n",
    "                           'TotalSpent', 'AvgOrderValue', 'ProductVariety']\n",
    "\n",
    "# Calculate correlations between spending and other factors\n",
    "spending_correlations = customer_analysis.corr()['TotalSpent'].sort_values(ascending=False)\n",
    "\n",
    "print(\"Correlations with Total Spending:\")\n",
    "print(\"-\" * 50)\n",
    "print(spending_correlations)\n",
    "\n",
    "# Visualize relationship between purchase frequency and total spending\n",
    "plt.figure(figsize=(10, 6))\n",
    "sns.scatterplot(data=customer_analysis, x='PurchaseFrequency', y='TotalSpent')\n",
    "plt.title('Purchase Frequency vs Total Spending')\n",
    "plt.xlabel('Number of Purchases')\n",
    "plt.ylabel('Total Amount Spent')\n",
    "plt.show()"
   ]
  },
  {
   "cell_type": "markdown",
   "metadata": {},
   "source": [
    "### 4. Why do some customers show higher loyalty?"
   ]
  },
  {
   "cell_type": "code",
   "execution_count": null,
   "metadata": {},
   "source": [
    "# Analyze customer loyalty factors\n",
    "df_clean['PurchaseMonth'] = pd.to_datetime(df_clean['InvoiceDate']).dt.to_period('M')\n",
    "\n",
    "# Calculate customer lifetime and activity metrics\n",
    "customer_lifetime = df_clean.groupby('CustomerID').agg({\n",
    "    'PurchaseMonth': ['nunique', 'min', 'max'],\n",
    "    'InvoiceNo': 'count',\n",
    "    'TotalAmount': 'sum'\n",
    "}).reset_index()\n",
    "\n",
    "customer_lifetime.columns = ['CustomerID', 'ActiveMonths', 'FirstPurchase', 'LastPurchase',\n",
    "                           'TotalTransactions', 'TotalSpent']\n",
    "\n",
    "# Calculate average monthly purchases\n",
    "customer_lifetime['AvgMonthlyPurchases'] = (customer_lifetime['TotalTransactions'] / \n",
    "                                           customer_lifetime['ActiveMonths'])\n",
    "\n",
    "# Visualize relationship between activity duration and spending\n",
    "plt.figure(figsize=(10, 6))\n",
    "sns.scatterplot(data=customer_lifetime, x='ActiveMonths', y='TotalSpent',\n",
    "                size='AvgMonthlyPurchases', sizes=(20, 200))\n",
    "plt.title('Customer Loyalty Analysis')\n",
    "plt.xlabel('Number of Active Months')\n",
    "plt.ylabel('Total Amount Spent')\n",
    "plt.show()"
   ]
  },
  {
   "cell_type": "markdown",
   "metadata": {},
   "source": [
    "## Diagnostic Analytics Summary\n",
    "\n",
    "Our analysis has revealed several key insights about why certain patterns exist in customer behavior:\n",
    "\n",
    "1. **Product Performance Factors**:\n",
    "   - Price sensitivity relationship with sales volume\n",
    "   - Seasonal influence on product popularity\n",
    "   - Product category preferences\n",
    "\n",
    "2. **Temporal Pattern Drivers**:\n",
    "   - Seasonal product preferences\n",
    "   - Impact of timing on purchase behavior\n",
    "   - Holiday season effects\n",
    "\n",
    "3. **Customer Spending Variations**:\n",
    "   - Strong correlation between purchase frequency and total spending\n",
    "   - Impact of product variety on customer value\n",
    "   - Average order value patterns\n",
    "\n",
    "4. **Customer Loyalty Factors**:\n",
    "   - Relationship between engagement duration and spending\n",
    "   - Purchase frequency patterns\n",
    "   - Customer lifetime value indicators\n",
    "\n",
    "These insights can be used for:\n",
    "- Pricing strategy optimization\n",
    "- Seasonal marketing planning\n",
    "- Customer retention programs\n",
    "- Personalized marketing campaigns"
   ]
  }
 ],
 "metadata": {
  "kernelspec": {
   "display_name": "Python 3",
   "language": "python",
   "name": "python3"
  },
  "language_info": {
   "codemirror_mode": {
    "name": "ipython",
    "version": 3
   },
   "file_extension": ".py",
   "mimetype": "text/x-python",
   "name": "python",
   "nbconvert_exporter": "python",
   "pygments_lexer": "ipython3",
   "version": "3.8.0"
  }
 },
 "nbformat": 4,
 "nbformat_minor": 4
}
