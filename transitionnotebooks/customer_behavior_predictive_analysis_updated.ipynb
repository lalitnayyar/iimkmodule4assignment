{
 "cells": [
  {
   "cell_type": "markdown",
   "metadata": {},
   "source": [
    "# Customer Behavior Predictive Analysis\n",
    "\n",
    "**Course**: IIMK's Professional Certificate in Data Science and Artificial Intelligence for Managers  \n",
    "**Student Name**: Lalit Nayyar  \n",
    "**Email ID**: lalitnayyar@gmail.com  \n",
    "**Assignment Name**: Week 4: Required Assignment 4.1\n",
    "\n",
    "## Predicting Future Customer Behavior\n",
    "\n",
    "In this notebook, we'll focus on two key prediction problems:\n",
    "1. Predicting customer purchase frequency in the next month\n",
    "2. Forecasting customer lifetime value (CLV)"
   ]
  }
 ] + original_cells[1:]
}
