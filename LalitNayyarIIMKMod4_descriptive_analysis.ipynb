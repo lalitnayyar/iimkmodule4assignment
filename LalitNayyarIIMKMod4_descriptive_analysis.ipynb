{
 "cells": [
  {
   "cell_type": "markdown",
   "metadata": {},
   "source": [
    "# Customer Behavior Descriptive Analysis\n",
    "\n",
    "**Course**: IIMK's Professional Certificate in Data Science and Artificial Intelligence for Managers  \n",
    "**Student Name**: Lalit Nayyar  \n",
    "**Email ID**: lalitnayyar@gmail.com  \n",
    "**Assignment Name**: Week 4: Required Assignment 4.1\n",
    "\n",
    "## Descriptive Analytics Section\n",
    "In this section, we'll perform detailed descriptive analytics to understand customer behavior patterns and trends."
   ]
  },
  {
   "cell_type": "code",
   "execution_count": null,
   "metadata": {},
   "source": [
    "# Import required libraries\n",
    "import pandas as pd\n",
    "import numpy as np\n",
    "import matplotlib.pyplot as plt\n",
    "import seaborn as sns\n",
    "from scipy import stats\n",
    "from datetime import datetime\n",
    "\n",
    "# Set visualization style\n",
    "plt.style.use('seaborn')\n",
    "sns.set_palette('husl')"
   ]
  },
  {
   "cell_type": "markdown",
   "metadata": {},
   "source": [
    "### 1. Purchase Frequency Analysis"
   ]
  },
  {
   "cell_type": "code",
   "execution_count": null,
   "metadata": {},
   "source": [
    "# Load and prepare the data\n",
    "df = pd.read_excel('Online Retail.xlsx')\n",
    "df_clean = clean_data(df)  # Using the cleaning function from first notebook\n",
    "\n",
    "# Customer purchase frequency\n",
    "customer_frequency = df_clean['CustomerID'].value_counts()\n",
    "\n",
    "print(\"Purchase Frequency Statistics:\")\n",
    "print(\"-\" * 50)\n",
    "print(f\"Average purchases per customer: {customer_frequency.mean():.2f}\")\n",
    "print(f\"Median purchases per customer: {customer_frequency.median():.2f}\")\n",
    "\n",
    "# Visualize purchase frequency distribution\n",
    "plt.figure(figsize=(10, 6))\n",
    "sns.histplot(customer_frequency, bins=50)\n",
    "plt.title('Distribution of Purchase Frequency per Customer')\n",
    "plt.xlabel('Number of Purchases')\n",
    "plt.ylabel('Number of Customers')\n",
    "plt.show()"
   ]
  },
  {
   "cell_type": "markdown",
   "metadata": {},
   "source": [
    "### 2. Popular Products Analysis"
   ]
  },
  {
   "cell_type": "code",
   "execution_count": null,
   "metadata": {},
   "source": [
    "# Analyze top selling products\n",
    "product_sales = df_clean.groupby('Description').agg({\n",
    "    'Quantity': 'sum',\n",
    "    'TotalAmount': 'sum',\n",
    "    'InvoiceNo': 'count'\n",
    "}).rename(columns={'InvoiceNo': 'TransactionCount'})\n",
    "\n",
    "# Sort by quantity sold\n",
    "top_products_by_quantity = product_sales.sort_values('Quantity', ascending=False).head(10)\n",
    "\n",
    "# Visualize top products\n",
    "plt.figure(figsize=(12, 6))\n",
    "sns.barplot(data=top_products_by_quantity.reset_index(), \n",
    "            x='Quantity', \n",
    "            y='Description')\n",
    "plt.title('Top 10 Products by Quantity Sold')\n",
    "plt.xlabel('Total Quantity Sold')\n",
    "plt.show()"
   ]
  },
  {
   "cell_type": "markdown",
   "metadata": {},
   "source": [
    "### 3. Temporal Purchase Patterns"
   ]
  },
  {
   "cell_type": "code",
   "execution_count": null,
   "metadata": {},
   "source": [
    "# Add datetime components\n",
    "df_clean['InvoiceDate'] = pd.to_datetime(df_clean['InvoiceDate'])\n",
    "df_clean['Month'] = df_clean['InvoiceDate'].dt.month\n",
    "df_clean['DayOfWeek'] = df_clean['InvoiceDate'].dt.day_name()\n",
    "df_clean['Hour'] = df_clean['InvoiceDate'].dt.hour\n",
    "\n",
    "# Monthly sales trend\n",
    "monthly_sales = df_clean.groupby('Month')['TotalAmount'].sum().reset_index()\n",
    "\n",
    "plt.figure(figsize=(10, 6))\n",
    "sns.lineplot(data=monthly_sales, x='Month', y='TotalAmount', marker='o')\n",
    "plt.title('Monthly Sales Trend')\n",
    "plt.xlabel('Month')\n",
    "plt.ylabel('Total Sales Amount')\n",
    "plt.show()"
   ]
  },
  {
   "cell_type": "markdown",
   "metadata": {},
   "source": [
    "### 4. Customer Spending Analysis"
   ]
  },
  {
   "cell_type": "code",
   "execution_count": null,
   "metadata": {},
   "source": [
    "# Calculate customer spending metrics\n",
    "customer_spending = df_clean.groupby('CustomerID').agg({\n",
    "    'TotalAmount': ['sum', 'mean', 'count'],\n",
    "    'Quantity': 'sum'\n",
    "}).round(2)\n",
    "\n",
    "customer_spending.columns = ['TotalSpent', 'AverageTransactionValue', 'TransactionCount', 'TotalItems']\n",
    "\n",
    "print(\"Customer Spending Statistics:\")\n",
    "print(\"-\" * 50)\n",
    "print(customer_spending.describe())\n",
    "\n",
    "# Visualize distribution of customer spending\n",
    "plt.figure(figsize=(10, 6))\n",
    "sns.histplot(data=customer_spending, x='TotalSpent', bins=50)\n",
    "plt.title('Distribution of Customer Total Spending')\n",
    "plt.xlabel('Total Amount Spent')\n",
    "plt.ylabel('Number of Customers')\n",
    "plt.show()"
   ]
  },
  {
   "cell_type": "markdown",
   "metadata": {},
   "source": [
    "### 5. Key Insights Summary\n",
    "\n",
    "Based on the descriptive analytics performed above, we can identify the following key patterns and trends:\n",
    "\n",
    "**What:**\n",
    "- Most popular products and their sales volumes\n",
    "- Distribution of transaction values\n",
    "- Customer spending patterns\n",
    "\n",
    "**Which:**\n",
    "- Which products are bestsellers\n",
    "- Which months show highest sales\n",
    "- Which customers are most valuable (by spending)\n",
    "\n",
    "**How Many:**\n",
    "- Average purchases per customer\n",
    "- Total transactions per product\n",
    "- Distribution of order quantities"
   ]
  }
 ],
 "metadata": {
  "kernelspec": {
   "display_name": "Python 3",
   "language": "python",
   "name": "python3"
  },
  "language_info": {
   "codemirror_mode": {
    "name": "ipython",
    "version": 3
   },
   "file_extension": ".py",
   "mimetype": "text/x-python",
   "name": "python",
   "nbconvert_exporter": "python",
   "pygments_lexer": "ipython3",
   "version": "3.8.0"
  }
 },
 "nbformat": 4,
 "nbformat_minor": 4
}
