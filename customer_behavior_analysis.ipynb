{
 "cells": [
  {
   "cell_type": "markdown",
   "metadata": {},
   "source": [
    "# Customer Behavior Analysis\n",
    "\n",
    "## Introduction\n",
    "This notebook analyzes customer behavior data from an online retail platform to derive meaningful insights for business decision-making. We'll focus on understanding purchasing patterns, customer segmentation, and transaction trends.\n",
    "\n",
    "## Data Description and Preparation"
   ]
  },
  {
   "cell_type": "code",
   "execution_count": null,
   "metadata": {},
   "source": [
    "# Import required libraries\n",
    "import pandas as pd\n",
    "import numpy as np\n",
    "import matplotlib.pyplot as plt\n",
    "import seaborn as sns\n",
    "\n",
    "# Set display options\n",
    "pd.set_option('display.max_columns', None)\n",
    "pd.set_option('display.float_format', lambda x: '%.3f' % x)"
   ]
  },
  {
   "cell_type": "code",
   "execution_count": null,
   "metadata": {},
   "source": [
    "# Read the dataset\n",
    "df = pd.read_excel('Online Retail.xlsx')\n",
    "\n",
    "# Display basic information about the dataset\n",
    "print(\"Dataset Info:\")\n",
    "print(\"-\" * 50)\n",
    "df.info()\n",
    "\n",
    "print(\"\\nFirst few rows of the dataset:\")\n",
    "print(\"-\" * 50)\n",
    "df.head()"
   ]
  },
  {
   "cell_type": "markdown",
   "metadata": {},
   "source": [
    "### Data Structure Analysis\n",
    "\n",
    "The Online Retail dataset is a **structured dataset** with the following characteristics:\n",
    "- Each row represents a transaction\n",
    "- Contains numerical and categorical variables\n",
    "- Has a clear schema with defined columns\n",
    "\n",
    "### Data Cleaning and Preprocessing"
   ]
  },
  {
   "cell_type": "code",
   "execution_count": null,
   "metadata": {},
   "source": [
    "# Check for missing values\n",
    "print(\"Missing values in each column:\")\n",
    "print(\"-\" * 50)\n",
    "print(df.isnull().sum())\n",
    "\n",
    "# Check for duplicates\n",
    "print(\"\\nNumber of duplicate rows:\")\n",
    "print(\"-\" * 50)\n",
    "print(df.duplicated().sum())"
   ]
  },
  {
   "cell_type": "code",
   "execution_count": null,
   "metadata": {},
   "source": [
    "# Data cleaning steps\n",
    "def clean_data(df):\n",
    "    # Create a copy of the dataframe\n",
    "    df_clean = df.copy()\n",
    "    \n",
    "    # Remove rows with missing values\n",
    "    df_clean = df_clean.dropna()\n",
    "    \n",
    "    # Remove duplicates\n",
    "    df_clean = df_clean.drop_duplicates()\n",
    "    \n",
    "    # Filter out rows with quantity <= 0 or unit price <= 0\n",
    "    df_clean = df_clean[(df_clean['Quantity'] > 0) & (df_clean['UnitPrice'] > 0)]\n",
    "    \n",
    "    # Add a TotalAmount column\n",
    "    df_clean['TotalAmount'] = df_clean['Quantity'] * df_clean['UnitPrice']\n",
    "    \n",
    "    return df_clean\n",
    "\n",
    "# Clean the data\n",
    "df_clean = clean_data(df)\n",
    "\n",
    "# Display basic statistics of the cleaned dataset\n",
    "print(\"Cleaned dataset statistics:\")\n",
    "print(\"-\" * 50)\n",
    "df_clean.describe()"
   ]
  },
  {
   "cell_type": "markdown",
   "metadata": {},
   "source": [
    "### Data Preprocessing Summary\n",
    "\n",
    "The following preprocessing steps were performed:\n",
    "1. Removed missing values\n",
    "2. Removed duplicate transactions\n",
    "3. Filtered out invalid transactions (negative or zero quantity/price)\n",
    "4. Added TotalAmount column for transaction value analysis\n",
    "\n",
    "The cleaned dataset is now ready for further analysis of customer behavior patterns."
   ]
  }
 ],
 "metadata": {
  "kernelspec": {
   "display_name": "Python 3",
   "language": "python",
   "name": "python3"
  },
  "language_info": {
   "codemirror_mode": {
    "name": "ipython",
    "version": 3
   },
   "file_extension": ".py",
   "mimetype": "text/x-python",
   "name": "python",
   "nbconvert_exporter": "python",
   "pygments_lexer": "ipython3",
   "version": "3.8.0"
  }
 },
 "nbformat": 4,
 "nbformat_minor": 4
}
